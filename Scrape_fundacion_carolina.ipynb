{
 "cells": [
  {
   "cell_type": "code",
   "execution_count": 33,
   "metadata": {},
   "outputs": [],
   "source": [
    "import csv\n",
    "from selenium import webdriver\n",
    "from selenium.webdriver.common.by import By\n",
    "from selenium.webdriver.chrome.service import Service\n",
    "from selenium.webdriver.chrome.options import Options\n",
    "from selenium.webdriver.common.by import By\n",
    "from selenium.webdriver.support.ui import WebDriverWait\n",
    "from selenium.webdriver.support import expected_conditions as EC\n",
    "from webdriver_manager.chrome import ChromeDriverManager\n",
    "import time\n",
    "import pandas as pd\n",
    "from selenium_stealth import stealth\n",
    "from selenium.webdriver.common.by import By"
   ]
  },
  {
   "cell_type": "code",
   "execution_count": 8,
   "metadata": {},
   "outputs": [],
   "source": [
    "# Especificar la ruta del ChromeDriver descargado\n",
    "chrome_driver_path = \"C:\\\\Users\\\\edwin\\\\chromedriver-win64\\\\chromedriver.exe\"\n",
    "\n",
    "chrome_options = webdriver.ChromeOptions()\n",
    "\n",
    "# Añadir un User-Agent personalizado\n",
    "chrome_options.add_argument(\"user-agent=Mozilla/5.0 (Windows NT 10.0; Win64; x64) AppleWebKit/537.36 (KHTML, like Gecko) Chrome/58.0.3029.110 Safari/537.3\")\n",
    "chrome_options.add_argument(\"--start-maximized\")\n",
    "chrome_options.add_argument(\"--disable-extensions\")\n",
    "chrome_options.add_argument(\"--disable-dev-shm-usage\")\n",
    "## chrome_options.add_argument(\"--headless\")\n",
    "\n",
    "# Usar el Service de Selenium para especificar la ruta\n",
    "driver = webdriver.Chrome(chrome_driver_path, options=chrome_options)\n",
    "\n",
    "stealth(driver,\n",
    "        languages=[\"en-US\", \"en\"],\n",
    "        vendor=\"Google Inc.\",\n",
    "        platform=\"Win64\",\n",
    "        webgl_vendor=\"Intel Inc.\",\n",
    "        renderer=\"Intel Iris OpenGL Engine\",\n",
    "        fix_hairline=True,\n",
    "        )"
   ]
  },
  {
   "cell_type": "code",
   "execution_count": 3,
   "metadata": {},
   "outputs": [],
   "source": [
    "output_file = 'fundacion_carolina.csv'"
   ]
  },
  {
   "cell_type": "code",
   "execution_count": 4,
   "metadata": {},
   "outputs": [],
   "source": [
    "first_link='https://gestion.fundacioncarolina.es/programas'"
   ]
  },
  {
   "cell_type": "code",
   "execution_count": 9,
   "metadata": {},
   "outputs": [],
   "source": [
    "driver.get(first_link)"
   ]
  },
  {
   "cell_type": "code",
   "execution_count": 61,
   "metadata": {},
   "outputs": [],
   "source": [
    "# Encuentra todos los elementos que controlan los acordeones\n",
    "acordeones = driver.find_elements(By.CSS_SELECTOR, 'a.collapsed[data-parent=\"#accordion4\"]')"
   ]
  },
  {
   "cell_type": "code",
   "execution_count": 69,
   "metadata": {},
   "outputs": [
    {
     "name": "stdout",
     "output_type": "stream",
     "text": [
      "Descripción: \n",
      "Plazo Cerrado: \n",
      "Descripción: \n",
      "Plazo Cerrado: \n",
      "Descripción: \n",
      "Plazo Cerrado: \n",
      "Descripción: \n",
      "Plazo Cerrado: \n",
      "Descripción: \n",
      "Plazo Cerrado: \n",
      "Descripción: \n",
      "Plazo Cerrado: \n",
      "Descripción: \n",
      "Plazo Cerrado: \n",
      "Descripción: \n",
      "Plazo Cerrado: \n"
     ]
    }
   ],
   "source": [
    "# Recorre cada acordeón, expande, y extrae los datos necesarios\n",
    "for acordeon in acordeones:\n",
    "    try:\n",
    "        # Verifica si el acordeón está colapsado\n",
    "        is_expanded = acordeon.get_attribute(\"aria-expanded\")\n",
    "        \n",
    "        if is_expanded == \"false\":\n",
    "            # Expande el acordeón\n",
    "            driver.execute_script(\"arguments[0].scrollIntoView();\", acordeon)\n",
    "            acordeon.click()\n",
    "            time.sleep(2)  # Espera que cargue el contenido expandido\n",
    "\n",
    "            # Extrae el href del programa\n",
    "            try:\n",
    "                href_element = acordeon.find_element(By.CSS_SELECTOR, 'a')\n",
    "                href_value = href_element.get_attribute('href')\n",
    "            except: pass\n",
    "            # Extrae el texto dentro de prog-desc\n",
    "            try:\n",
    "                prog_desc_element = driver.find_element(By.CSS_SELECTOR, '.prog-desc')\n",
    "                prog_desc_text = prog_desc_element.text\n",
    "            except:pass\n",
    "            # Extrae el estado de \"Plazo Cerrado\"\n",
    "            try:\n",
    "                plazo_cerrado_element = driver.find_element(By.CSS_SELECTOR, '.badge.bg-color-red')\n",
    "                plazo_cerrado_text = plazo_cerrado_element.text\n",
    "            except:pass\n",
    "            try:\n",
    "                print(f\"Href: {href_value}\")\n",
    "            except: pass\n",
    "            try:\n",
    "                print(f\"Descripción: {prog_desc_text}\")\n",
    "            except: pass\n",
    "            try:\n",
    "                print(f\"Plazo Cerrado: {plazo_cerrado_text}\")\n",
    "            except: pass\n",
    "\n",
    "        # Si ya está expandido, no hace nada o lo colapsa, si se desea\n",
    "    except Exception as e:\n",
    "        print(f\"Error al interactuar con el acordeón: {e}\")"
   ]
  },
  {
   "cell_type": "code",
   "execution_count": 60,
   "metadata": {},
   "outputs": [],
   "source": [
    "acordeones[-1].click()"
   ]
  },
  {
   "cell_type": "code",
   "execution_count": 13,
   "metadata": {},
   "outputs": [
    {
     "data": {
      "text/plain": [
       "<selenium.webdriver.remote.webelement.WebElement (session=\"f5f28da1b0486b68e25a9dc4b97d23b0\", element=\"f.F12A830EE6F92FD61FC8C1A867C7EAE2.d.8ACF0254692E7E308B4E7091E7E3C0A3.e.174\")>"
      ]
     },
     "execution_count": 13,
     "metadata": {},
     "output_type": "execute_result"
    }
   ],
   "source": [
    "acordeon"
   ]
  }
 ],
 "metadata": {
  "kernelspec": {
   "display_name": "data_analysis",
   "language": "python",
   "name": "python3"
  },
  "language_info": {
   "codemirror_mode": {
    "name": "ipython",
    "version": 3
   },
   "file_extension": ".py",
   "mimetype": "text/x-python",
   "name": "python",
   "nbconvert_exporter": "python",
   "pygments_lexer": "ipython3",
   "version": "3.10.11"
  }
 },
 "nbformat": 4,
 "nbformat_minor": 2
}
