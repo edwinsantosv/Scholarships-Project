{
 "cells": [
  {
   "cell_type": "code",
   "execution_count": 1,
   "metadata": {},
   "outputs": [],
   "source": [
    "import numpy as np\n",
    "import seaborn as sns\n",
    "import pandas as pd\n",
    "import plotly.express as px"
   ]
  },
  {
   "cell_type": "code",
   "execution_count": 2,
   "metadata": {},
   "outputs": [
    {
     "data": {
      "text/html": [
       "<div>\n",
       "<style scoped>\n",
       "    .dataframe tbody tr th:only-of-type {\n",
       "        vertical-align: middle;\n",
       "    }\n",
       "\n",
       "    .dataframe tbody tr th {\n",
       "        vertical-align: top;\n",
       "    }\n",
       "\n",
       "    .dataframe thead th {\n",
       "        text-align: right;\n",
       "    }\n",
       "</style>\n",
       "<table border=\"1\" class=\"dataframe\">\n",
       "  <thead>\n",
       "    <tr style=\"text-align: right;\">\n",
       "      <th></th>\n",
       "      <th>Unnamed: 0</th>\n",
       "      <th>ID</th>\n",
       "      <th>URL</th>\n",
       "      <th>About</th>\n",
       "      <th>Scholarship_Type</th>\n",
       "      <th>Number_of_Scholarships</th>\n",
       "      <th>Grant</th>\n",
       "      <th>Scholarship_Coverage</th>\n",
       "      <th>Description</th>\n",
       "      <th>Applicable_Programmes</th>\n",
       "      <th>...</th>\n",
       "      <th>Eligibility_crit</th>\n",
       "      <th>Disciplines</th>\n",
       "      <th>Locations</th>\n",
       "      <th>Nationality</th>\n",
       "      <th>study_experience_required</th>\n",
       "      <th>age</th>\n",
       "      <th>deadline</th>\n",
       "      <th>app_criteria</th>\n",
       "      <th>University</th>\n",
       "      <th>City</th>\n",
       "    </tr>\n",
       "  </thead>\n",
       "  <tbody>\n",
       "    <tr>\n",
       "      <th>0</th>\n",
       "      <td>35</td>\n",
       "      <td>44</td>\n",
       "      <td>https://www.mastersportal.com/scholarships/848...</td>\n",
       "      <td>University of Barcelona offers grants and supp...</td>\n",
       "      <td>Need based</td>\n",
       "      <td>Multiple</td>\n",
       "      <td>Full or partial tuition waiver</td>\n",
       "      <td>tuition fee reduction</td>\n",
       "      <td>One of CHARM-EU’s core values is inclusiveness...</td>\n",
       "      <td>International Trade, Finance and Development\\n...</td>\n",
       "      <td>...</td>\n",
       "      <td>Eligibility criteria are (non-exhaustive list)...</td>\n",
       "      <td>International Development</td>\n",
       "      <td>Spain</td>\n",
       "      <td>Any</td>\n",
       "      <td>Bachelor</td>\n",
       "      <td>Unknown</td>\n",
       "      <td>20 Mar 2025</td>\n",
       "      <td>They require a short explanation for any appli...</td>\n",
       "      <td>University of Barcelona</td>\n",
       "      <td>Barcelona , Spain</td>\n",
       "    </tr>\n",
       "    <tr>\n",
       "      <th>1</th>\n",
       "      <td>834</td>\n",
       "      <td>944</td>\n",
       "      <td>https://www.mastersportal.com/scholarships/861...</td>\n",
       "      <td>At the University of Newcastle, they are proud...</td>\n",
       "      <td>Merit based</td>\n",
       "      <td>Multiple</td>\n",
       "      <td>AU$4,000 - AU$12,000 per year, max AU$48,000</td>\n",
       "      <td>tuition fee reduction\\nDescription\\nThe STEAM ...</td>\n",
       "      <td>The STEAM Excellence Scholarship has been esta...</td>\n",
       "      <td>Master of Engineering - Master of Engineering ...</td>\n",
       "      <td>...</td>\n",
       "      <td>To be eligible to apply for this scholarship, ...</td>\n",
       "      <td>Multiple disciplines</td>\n",
       "      <td>Australia</td>\n",
       "      <td>Any</td>\n",
       "      <td>High school</td>\n",
       "      <td>Unknown</td>\n",
       "      <td>Anytime</td>\n",
       "      <td>No application is required for this scholarshi...</td>\n",
       "      <td>University of Newcastle</td>\n",
       "      <td>Newcastle , Australia</td>\n",
       "    </tr>\n",
       "    <tr>\n",
       "      <th>2</th>\n",
       "      <td>454</td>\n",
       "      <td>2020</td>\n",
       "      <td>https://www.mastersportal.com/scholarships/288...</td>\n",
       "      <td>Beijing Government Scholarship for Internation...</td>\n",
       "      <td>Merit based</td>\n",
       "      <td>Multiple</td>\n",
       "      <td>Up to CNY 18,000</td>\n",
       "      <td>tuition fee reduction\\nDescription\\nChina Univ...</td>\n",
       "      <td>China University of petroleum is a recipient o...</td>\n",
       "      <td>Petroleum and Natural Gas Engineering\\nChina U...</td>\n",
       "      <td>...</td>\n",
       "      <td>1. The applicant must be a non-Chinese citizen...</td>\n",
       "      <td>Mining, Oil &amp; Gas</td>\n",
       "      <td>China</td>\n",
       "      <td>Any</td>\n",
       "      <td>High school</td>\n",
       "      <td>Unknown</td>\n",
       "      <td>30 May 2025</td>\n",
       "      <td>Application deadlines：\\nUndergraduate degree: ...</td>\n",
       "      <td>China University of Petroleum-Beijing</td>\n",
       "      <td>Changping , China</td>\n",
       "    </tr>\n",
       "    <tr>\n",
       "      <th>3</th>\n",
       "      <td>28</td>\n",
       "      <td>37</td>\n",
       "      <td>https://www.mastersportal.com/scholarships/857...</td>\n",
       "      <td>At the University of Newcastle, they are proud...</td>\n",
       "      <td>Merit based</td>\n",
       "      <td>Multiple</td>\n",
       "      <td>AU$4,000 to AU$12,000 per year, maximum AU$48,000</td>\n",
       "      <td>tuition fee reduction\\nDescription\\nThe Busine...</td>\n",
       "      <td>The Business and Management Excellence Scholar...</td>\n",
       "      <td>Master of Social Change and Development\\nUnive...</td>\n",
       "      <td>...</td>\n",
       "      <td>To be eligible to apply for this scholarship, ...</td>\n",
       "      <td>Multiple disciplines</td>\n",
       "      <td>Australia</td>\n",
       "      <td>Any</td>\n",
       "      <td>High school</td>\n",
       "      <td>Unknown</td>\n",
       "      <td>Anytime</td>\n",
       "      <td>No application is required for this scholarshi...</td>\n",
       "      <td>University of Newcastle</td>\n",
       "      <td>Newcastle , Australia</td>\n",
       "    </tr>\n",
       "    <tr>\n",
       "      <th>4</th>\n",
       "      <td>465</td>\n",
       "      <td>575</td>\n",
       "      <td>https://www.mastersportal.com/scholarships/101...</td>\n",
       "      <td>At Ulster University, there are different type...</td>\n",
       "      <td>Merit and need based</td>\n",
       "      <td>Multiple</td>\n",
       "      <td>Up to £1,000</td>\n",
       "      <td>tuition fee reduction</td>\n",
       "      <td>The fund will provide 1-2 local support schola...</td>\n",
       "      <td>Music Composition\\nMaynooth University\\nMaynoo...</td>\n",
       "      <td>...</td>\n",
       "      <td>To be eligible to apply applicants must be a f...</td>\n",
       "      <td>Any</td>\n",
       "      <td>Ireland</td>\n",
       "      <td>Any</td>\n",
       "      <td>High school</td>\n",
       "      <td>Unknown</td>\n",
       "      <td>Not specified</td>\n",
       "      <td>Calls for applications will be made on an annu...</td>\n",
       "      <td>Ulster University</td>\n",
       "      <td>Coleraine , United Kingdom</td>\n",
       "    </tr>\n",
       "  </tbody>\n",
       "</table>\n",
       "<p>5 rows × 22 columns</p>\n",
       "</div>"
      ],
      "text/plain": [
       "   Unnamed: 0    ID                                                URL  \\\n",
       "0          35    44  https://www.mastersportal.com/scholarships/848...   \n",
       "1         834   944  https://www.mastersportal.com/scholarships/861...   \n",
       "2         454  2020  https://www.mastersportal.com/scholarships/288...   \n",
       "3          28    37  https://www.mastersportal.com/scholarships/857...   \n",
       "4         465   575  https://www.mastersportal.com/scholarships/101...   \n",
       "\n",
       "                                               About      Scholarship_Type  \\\n",
       "0  University of Barcelona offers grants and supp...            Need based   \n",
       "1  At the University of Newcastle, they are proud...           Merit based   \n",
       "2  Beijing Government Scholarship for Internation...           Merit based   \n",
       "3  At the University of Newcastle, they are proud...           Merit based   \n",
       "4  At Ulster University, there are different type...  Merit and need based   \n",
       "\n",
       "  Number_of_Scholarships                                              Grant  \\\n",
       "0               Multiple                     Full or partial tuition waiver   \n",
       "1               Multiple       AU$4,000 - AU$12,000 per year, max AU$48,000   \n",
       "2               Multiple                                   Up to CNY 18,000   \n",
       "3               Multiple  AU$4,000 to AU$12,000 per year, maximum AU$48,000   \n",
       "4               Multiple                                       Up to £1,000   \n",
       "\n",
       "                                Scholarship_Coverage  \\\n",
       "0                              tuition fee reduction   \n",
       "1  tuition fee reduction\\nDescription\\nThe STEAM ...   \n",
       "2  tuition fee reduction\\nDescription\\nChina Univ...   \n",
       "3  tuition fee reduction\\nDescription\\nThe Busine...   \n",
       "4                              tuition fee reduction   \n",
       "\n",
       "                                         Description  \\\n",
       "0  One of CHARM-EU’s core values is inclusiveness...   \n",
       "1  The STEAM Excellence Scholarship has been esta...   \n",
       "2  China University of petroleum is a recipient o...   \n",
       "3  The Business and Management Excellence Scholar...   \n",
       "4  The fund will provide 1-2 local support schola...   \n",
       "\n",
       "                               Applicable_Programmes  ...  \\\n",
       "0  International Trade, Finance and Development\\n...  ...   \n",
       "1  Master of Engineering - Master of Engineering ...  ...   \n",
       "2  Petroleum and Natural Gas Engineering\\nChina U...  ...   \n",
       "3  Master of Social Change and Development\\nUnive...  ...   \n",
       "4  Music Composition\\nMaynooth University\\nMaynoo...  ...   \n",
       "\n",
       "                                    Eligibility_crit  \\\n",
       "0  Eligibility criteria are (non-exhaustive list)...   \n",
       "1  To be eligible to apply for this scholarship, ...   \n",
       "2  1. The applicant must be a non-Chinese citizen...   \n",
       "3  To be eligible to apply for this scholarship, ...   \n",
       "4  To be eligible to apply applicants must be a f...   \n",
       "\n",
       "                 Disciplines  Locations Nationality study_experience_required  \\\n",
       "0  International Development      Spain         Any                  Bachelor   \n",
       "1       Multiple disciplines  Australia         Any               High school   \n",
       "2          Mining, Oil & Gas      China         Any               High school   \n",
       "3       Multiple disciplines  Australia         Any               High school   \n",
       "4                        Any    Ireland         Any               High school   \n",
       "\n",
       "       age       deadline                                       app_criteria  \\\n",
       "0  Unknown    20 Mar 2025  They require a short explanation for any appli...   \n",
       "1  Unknown        Anytime  No application is required for this scholarshi...   \n",
       "2  Unknown    30 May 2025  Application deadlines：\\nUndergraduate degree: ...   \n",
       "3  Unknown        Anytime  No application is required for this scholarshi...   \n",
       "4  Unknown  Not specified  Calls for applications will be made on an annu...   \n",
       "\n",
       "                              University                        City  \n",
       "0                University of Barcelona           Barcelona , Spain  \n",
       "1                University of Newcastle       Newcastle , Australia  \n",
       "2  China University of Petroleum-Beijing           Changping , China  \n",
       "3                University of Newcastle       Newcastle , Australia  \n",
       "4                      Ulster University  Coleraine , United Kingdom  \n",
       "\n",
       "[5 rows x 22 columns]"
      ]
     },
     "execution_count": 2,
     "metadata": {},
     "output_type": "execute_result"
    }
   ],
   "source": [
    "df=pd.read_csv(\"final_df.csv\")\n",
    "df.head()"
   ]
  },
  {
   "cell_type": "code",
   "execution_count": null,
   "metadata": {},
   "outputs": [],
   "source": []
  },
  {
   "cell_type": "code",
   "execution_count": 5,
   "metadata": {},
   "outputs": [
    {
     "data": {
      "text/plain": [
       "0         20 Mar 2025\n",
       "1             Anytime\n",
       "2         30 May 2025\n",
       "4       Not specified\n",
       "7         15 Apr 2025\n",
       "            ...      \n",
       "2325      24 May 2025\n",
       "2328      18 Feb 2025\n",
       "2363      24 Apr 2025\n",
       "2462      11 Aug 2025\n",
       "2474              NaN\n",
       "Name: deadline, Length: 150, dtype: object"
      ]
     },
     "execution_count": 5,
     "metadata": {},
     "output_type": "execute_result"
    }
   ],
   "source": [
    "df.deadline.drop_duplicates()"
   ]
  },
  {
   "cell_type": "code",
   "execution_count": 9,
   "metadata": {},
   "outputs": [],
   "source": [
    "df=pd.read_csv(\"final_df.csv\")\n",
    "\n",
    "#Barcharts: Scholarship_Type, study_experience_required, country\n",
    "\n",
    "# Crear countplots (gráficos de barras contando la frecuencia de cada categoría)\n",
    "fig_scholarship_type = px.bar(df, x=df['Scholarship_Type'].value_counts().index, \n",
    "                              y=df['Scholarship_Type'].value_counts().values, \n",
    "                              title=\"Countplot of Scholarship Types\",\n",
    "                              labels={'x': 'Scholarship Type', 'y': 'Count'})"
   ]
  },
  {
   "cell_type": "code",
   "execution_count": 10,
   "metadata": {},
   "outputs": [
    {
     "data": {
      "application/vnd.plotly.v1+json": {
       "config": {
        "plotlyServerURL": "https://plot.ly"
       },
       "data": [
        {
         "alignmentgroup": "True",
         "hovertemplate": "Scholarship Type=%{x}<br>Count=%{y}<extra></extra>",
         "legendgroup": "",
         "marker": {
          "color": "#636efa",
          "pattern": {
           "shape": ""
          }
         },
         "name": "",
         "offsetgroup": "",
         "orientation": "v",
         "showlegend": false,
         "textposition": "auto",
         "type": "bar",
         "x": [
          "Merit based",
          "Merit and need based",
          "Need based",
          "Unknown"
         ],
         "xaxis": "x",
         "y": [
          1814,
          548,
          102,
          10
         ],
         "yaxis": "y"
        }
       ],
       "layout": {
        "barmode": "relative",
        "legend": {
         "tracegroupgap": 0
        },
        "template": {
         "data": {
          "bar": [
           {
            "error_x": {
             "color": "#2a3f5f"
            },
            "error_y": {
             "color": "#2a3f5f"
            },
            "marker": {
             "line": {
              "color": "#E5ECF6",
              "width": 0.5
             },
             "pattern": {
              "fillmode": "overlay",
              "size": 10,
              "solidity": 0.2
             }
            },
            "type": "bar"
           }
          ],
          "barpolar": [
           {
            "marker": {
             "line": {
              "color": "#E5ECF6",
              "width": 0.5
             },
             "pattern": {
              "fillmode": "overlay",
              "size": 10,
              "solidity": 0.2
             }
            },
            "type": "barpolar"
           }
          ],
          "carpet": [
           {
            "aaxis": {
             "endlinecolor": "#2a3f5f",
             "gridcolor": "white",
             "linecolor": "white",
             "minorgridcolor": "white",
             "startlinecolor": "#2a3f5f"
            },
            "baxis": {
             "endlinecolor": "#2a3f5f",
             "gridcolor": "white",
             "linecolor": "white",
             "minorgridcolor": "white",
             "startlinecolor": "#2a3f5f"
            },
            "type": "carpet"
           }
          ],
          "choropleth": [
           {
            "colorbar": {
             "outlinewidth": 0,
             "ticks": ""
            },
            "type": "choropleth"
           }
          ],
          "contour": [
           {
            "colorbar": {
             "outlinewidth": 0,
             "ticks": ""
            },
            "colorscale": [
             [
              0,
              "#0d0887"
             ],
             [
              0.1111111111111111,
              "#46039f"
             ],
             [
              0.2222222222222222,
              "#7201a8"
             ],
             [
              0.3333333333333333,
              "#9c179e"
             ],
             [
              0.4444444444444444,
              "#bd3786"
             ],
             [
              0.5555555555555556,
              "#d8576b"
             ],
             [
              0.6666666666666666,
              "#ed7953"
             ],
             [
              0.7777777777777778,
              "#fb9f3a"
             ],
             [
              0.8888888888888888,
              "#fdca26"
             ],
             [
              1,
              "#f0f921"
             ]
            ],
            "type": "contour"
           }
          ],
          "contourcarpet": [
           {
            "colorbar": {
             "outlinewidth": 0,
             "ticks": ""
            },
            "type": "contourcarpet"
           }
          ],
          "heatmap": [
           {
            "colorbar": {
             "outlinewidth": 0,
             "ticks": ""
            },
            "colorscale": [
             [
              0,
              "#0d0887"
             ],
             [
              0.1111111111111111,
              "#46039f"
             ],
             [
              0.2222222222222222,
              "#7201a8"
             ],
             [
              0.3333333333333333,
              "#9c179e"
             ],
             [
              0.4444444444444444,
              "#bd3786"
             ],
             [
              0.5555555555555556,
              "#d8576b"
             ],
             [
              0.6666666666666666,
              "#ed7953"
             ],
             [
              0.7777777777777778,
              "#fb9f3a"
             ],
             [
              0.8888888888888888,
              "#fdca26"
             ],
             [
              1,
              "#f0f921"
             ]
            ],
            "type": "heatmap"
           }
          ],
          "heatmapgl": [
           {
            "colorbar": {
             "outlinewidth": 0,
             "ticks": ""
            },
            "colorscale": [
             [
              0,
              "#0d0887"
             ],
             [
              0.1111111111111111,
              "#46039f"
             ],
             [
              0.2222222222222222,
              "#7201a8"
             ],
             [
              0.3333333333333333,
              "#9c179e"
             ],
             [
              0.4444444444444444,
              "#bd3786"
             ],
             [
              0.5555555555555556,
              "#d8576b"
             ],
             [
              0.6666666666666666,
              "#ed7953"
             ],
             [
              0.7777777777777778,
              "#fb9f3a"
             ],
             [
              0.8888888888888888,
              "#fdca26"
             ],
             [
              1,
              "#f0f921"
             ]
            ],
            "type": "heatmapgl"
           }
          ],
          "histogram": [
           {
            "marker": {
             "pattern": {
              "fillmode": "overlay",
              "size": 10,
              "solidity": 0.2
             }
            },
            "type": "histogram"
           }
          ],
          "histogram2d": [
           {
            "colorbar": {
             "outlinewidth": 0,
             "ticks": ""
            },
            "colorscale": [
             [
              0,
              "#0d0887"
             ],
             [
              0.1111111111111111,
              "#46039f"
             ],
             [
              0.2222222222222222,
              "#7201a8"
             ],
             [
              0.3333333333333333,
              "#9c179e"
             ],
             [
              0.4444444444444444,
              "#bd3786"
             ],
             [
              0.5555555555555556,
              "#d8576b"
             ],
             [
              0.6666666666666666,
              "#ed7953"
             ],
             [
              0.7777777777777778,
              "#fb9f3a"
             ],
             [
              0.8888888888888888,
              "#fdca26"
             ],
             [
              1,
              "#f0f921"
             ]
            ],
            "type": "histogram2d"
           }
          ],
          "histogram2dcontour": [
           {
            "colorbar": {
             "outlinewidth": 0,
             "ticks": ""
            },
            "colorscale": [
             [
              0,
              "#0d0887"
             ],
             [
              0.1111111111111111,
              "#46039f"
             ],
             [
              0.2222222222222222,
              "#7201a8"
             ],
             [
              0.3333333333333333,
              "#9c179e"
             ],
             [
              0.4444444444444444,
              "#bd3786"
             ],
             [
              0.5555555555555556,
              "#d8576b"
             ],
             [
              0.6666666666666666,
              "#ed7953"
             ],
             [
              0.7777777777777778,
              "#fb9f3a"
             ],
             [
              0.8888888888888888,
              "#fdca26"
             ],
             [
              1,
              "#f0f921"
             ]
            ],
            "type": "histogram2dcontour"
           }
          ],
          "mesh3d": [
           {
            "colorbar": {
             "outlinewidth": 0,
             "ticks": ""
            },
            "type": "mesh3d"
           }
          ],
          "parcoords": [
           {
            "line": {
             "colorbar": {
              "outlinewidth": 0,
              "ticks": ""
             }
            },
            "type": "parcoords"
           }
          ],
          "pie": [
           {
            "automargin": true,
            "type": "pie"
           }
          ],
          "scatter": [
           {
            "fillpattern": {
             "fillmode": "overlay",
             "size": 10,
             "solidity": 0.2
            },
            "type": "scatter"
           }
          ],
          "scatter3d": [
           {
            "line": {
             "colorbar": {
              "outlinewidth": 0,
              "ticks": ""
             }
            },
            "marker": {
             "colorbar": {
              "outlinewidth": 0,
              "ticks": ""
             }
            },
            "type": "scatter3d"
           }
          ],
          "scattercarpet": [
           {
            "marker": {
             "colorbar": {
              "outlinewidth": 0,
              "ticks": ""
             }
            },
            "type": "scattercarpet"
           }
          ],
          "scattergeo": [
           {
            "marker": {
             "colorbar": {
              "outlinewidth": 0,
              "ticks": ""
             }
            },
            "type": "scattergeo"
           }
          ],
          "scattergl": [
           {
            "marker": {
             "colorbar": {
              "outlinewidth": 0,
              "ticks": ""
             }
            },
            "type": "scattergl"
           }
          ],
          "scattermapbox": [
           {
            "marker": {
             "colorbar": {
              "outlinewidth": 0,
              "ticks": ""
             }
            },
            "type": "scattermapbox"
           }
          ],
          "scatterpolar": [
           {
            "marker": {
             "colorbar": {
              "outlinewidth": 0,
              "ticks": ""
             }
            },
            "type": "scatterpolar"
           }
          ],
          "scatterpolargl": [
           {
            "marker": {
             "colorbar": {
              "outlinewidth": 0,
              "ticks": ""
             }
            },
            "type": "scatterpolargl"
           }
          ],
          "scatterternary": [
           {
            "marker": {
             "colorbar": {
              "outlinewidth": 0,
              "ticks": ""
             }
            },
            "type": "scatterternary"
           }
          ],
          "surface": [
           {
            "colorbar": {
             "outlinewidth": 0,
             "ticks": ""
            },
            "colorscale": [
             [
              0,
              "#0d0887"
             ],
             [
              0.1111111111111111,
              "#46039f"
             ],
             [
              0.2222222222222222,
              "#7201a8"
             ],
             [
              0.3333333333333333,
              "#9c179e"
             ],
             [
              0.4444444444444444,
              "#bd3786"
             ],
             [
              0.5555555555555556,
              "#d8576b"
             ],
             [
              0.6666666666666666,
              "#ed7953"
             ],
             [
              0.7777777777777778,
              "#fb9f3a"
             ],
             [
              0.8888888888888888,
              "#fdca26"
             ],
             [
              1,
              "#f0f921"
             ]
            ],
            "type": "surface"
           }
          ],
          "table": [
           {
            "cells": {
             "fill": {
              "color": "#EBF0F8"
             },
             "line": {
              "color": "white"
             }
            },
            "header": {
             "fill": {
              "color": "#C8D4E3"
             },
             "line": {
              "color": "white"
             }
            },
            "type": "table"
           }
          ]
         },
         "layout": {
          "annotationdefaults": {
           "arrowcolor": "#2a3f5f",
           "arrowhead": 0,
           "arrowwidth": 1
          },
          "autotypenumbers": "strict",
          "coloraxis": {
           "colorbar": {
            "outlinewidth": 0,
            "ticks": ""
           }
          },
          "colorscale": {
           "diverging": [
            [
             0,
             "#8e0152"
            ],
            [
             0.1,
             "#c51b7d"
            ],
            [
             0.2,
             "#de77ae"
            ],
            [
             0.3,
             "#f1b6da"
            ],
            [
             0.4,
             "#fde0ef"
            ],
            [
             0.5,
             "#f7f7f7"
            ],
            [
             0.6,
             "#e6f5d0"
            ],
            [
             0.7,
             "#b8e186"
            ],
            [
             0.8,
             "#7fbc41"
            ],
            [
             0.9,
             "#4d9221"
            ],
            [
             1,
             "#276419"
            ]
           ],
           "sequential": [
            [
             0,
             "#0d0887"
            ],
            [
             0.1111111111111111,
             "#46039f"
            ],
            [
             0.2222222222222222,
             "#7201a8"
            ],
            [
             0.3333333333333333,
             "#9c179e"
            ],
            [
             0.4444444444444444,
             "#bd3786"
            ],
            [
             0.5555555555555556,
             "#d8576b"
            ],
            [
             0.6666666666666666,
             "#ed7953"
            ],
            [
             0.7777777777777778,
             "#fb9f3a"
            ],
            [
             0.8888888888888888,
             "#fdca26"
            ],
            [
             1,
             "#f0f921"
            ]
           ],
           "sequentialminus": [
            [
             0,
             "#0d0887"
            ],
            [
             0.1111111111111111,
             "#46039f"
            ],
            [
             0.2222222222222222,
             "#7201a8"
            ],
            [
             0.3333333333333333,
             "#9c179e"
            ],
            [
             0.4444444444444444,
             "#bd3786"
            ],
            [
             0.5555555555555556,
             "#d8576b"
            ],
            [
             0.6666666666666666,
             "#ed7953"
            ],
            [
             0.7777777777777778,
             "#fb9f3a"
            ],
            [
             0.8888888888888888,
             "#fdca26"
            ],
            [
             1,
             "#f0f921"
            ]
           ]
          },
          "colorway": [
           "#636efa",
           "#EF553B",
           "#00cc96",
           "#ab63fa",
           "#FFA15A",
           "#19d3f3",
           "#FF6692",
           "#B6E880",
           "#FF97FF",
           "#FECB52"
          ],
          "font": {
           "color": "#2a3f5f"
          },
          "geo": {
           "bgcolor": "white",
           "lakecolor": "white",
           "landcolor": "#E5ECF6",
           "showlakes": true,
           "showland": true,
           "subunitcolor": "white"
          },
          "hoverlabel": {
           "align": "left"
          },
          "hovermode": "closest",
          "mapbox": {
           "style": "light"
          },
          "paper_bgcolor": "white",
          "plot_bgcolor": "#E5ECF6",
          "polar": {
           "angularaxis": {
            "gridcolor": "white",
            "linecolor": "white",
            "ticks": ""
           },
           "bgcolor": "#E5ECF6",
           "radialaxis": {
            "gridcolor": "white",
            "linecolor": "white",
            "ticks": ""
           }
          },
          "scene": {
           "xaxis": {
            "backgroundcolor": "#E5ECF6",
            "gridcolor": "white",
            "gridwidth": 2,
            "linecolor": "white",
            "showbackground": true,
            "ticks": "",
            "zerolinecolor": "white"
           },
           "yaxis": {
            "backgroundcolor": "#E5ECF6",
            "gridcolor": "white",
            "gridwidth": 2,
            "linecolor": "white",
            "showbackground": true,
            "ticks": "",
            "zerolinecolor": "white"
           },
           "zaxis": {
            "backgroundcolor": "#E5ECF6",
            "gridcolor": "white",
            "gridwidth": 2,
            "linecolor": "white",
            "showbackground": true,
            "ticks": "",
            "zerolinecolor": "white"
           }
          },
          "shapedefaults": {
           "line": {
            "color": "#2a3f5f"
           }
          },
          "ternary": {
           "aaxis": {
            "gridcolor": "white",
            "linecolor": "white",
            "ticks": ""
           },
           "baxis": {
            "gridcolor": "white",
            "linecolor": "white",
            "ticks": ""
           },
           "bgcolor": "#E5ECF6",
           "caxis": {
            "gridcolor": "white",
            "linecolor": "white",
            "ticks": ""
           }
          },
          "title": {
           "x": 0.05
          },
          "xaxis": {
           "automargin": true,
           "gridcolor": "white",
           "linecolor": "white",
           "ticks": "",
           "title": {
            "standoff": 15
           },
           "zerolinecolor": "white",
           "zerolinewidth": 2
          },
          "yaxis": {
           "automargin": true,
           "gridcolor": "white",
           "linecolor": "white",
           "ticks": "",
           "title": {
            "standoff": 15
           },
           "zerolinecolor": "white",
           "zerolinewidth": 2
          }
         }
        },
        "title": {
         "text": "Countplot of Scholarship Types"
        },
        "xaxis": {
         "anchor": "y",
         "domain": [
          0,
          1
         ],
         "title": {
          "text": "Scholarship Type"
         }
        },
        "yaxis": {
         "anchor": "x",
         "domain": [
          0,
          1
         ],
         "title": {
          "text": "Count"
         }
        }
       }
      }
     },
     "metadata": {},
     "output_type": "display_data"
    }
   ],
   "source": [
    "fig_scholarship_type.show()"
   ]
  }
 ],
 "metadata": {
  "kernelspec": {
   "display_name": "data_analysis",
   "language": "python",
   "name": "python3"
  },
  "language_info": {
   "codemirror_mode": {
    "name": "ipython",
    "version": 3
   },
   "file_extension": ".py",
   "mimetype": "text/x-python",
   "name": "python",
   "nbconvert_exporter": "python",
   "pygments_lexer": "ipython3",
   "version": "3.10.11"
  }
 },
 "nbformat": 4,
 "nbformat_minor": 2
}
